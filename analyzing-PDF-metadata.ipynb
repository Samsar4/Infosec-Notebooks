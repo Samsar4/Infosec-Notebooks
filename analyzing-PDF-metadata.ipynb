{
 "cells": [
  {
   "cell_type": "markdown",
   "id": "suspected-matthew",
   "metadata": {},
   "source": [
    "# Analyzing PDF's Metadata with Python"
   ]
  },
  {
   "cell_type": "markdown",
   "id": "unusual-compromise",
   "metadata": {},
   "source": [
    "### A little bit about the internal structure of PDF \n",
    "- **Objects**: A PDF document is a data structure composed from a small set of basic types of data objects. Sub-clause 7.2, \"Lexical Conventions,\" describes the character set used to write objects and other syntactic elements. Sub-clause 7.3, \"Objects,\" describes the syntax and essential properties of the objects. Sub-clause 7.3.8, \"Stream Objects,\" provides complete details of the most complex data type, the stream object.\n",
    "\n",
    "- **File structure**: The PDF file structure determines how objects are stored in a PDF file, how they are accessed, and how they are updated. This structure is independent of the semantics of the objects. Sub- clause 7.5, \"File Structure,\" describes the file structure. Sub-clause 7.6, \"Encryption,\" describes a file-level mechanism for protecting a document’s contents from unauthorized access.\n",
    "\n",
    "- **Document structure**: The PDF document structure specifies how the basic object types are used to represent components of a PDF document: pages, fonts, annotations, and so forth. Sub-clause 7.7, \"Document Structure,\" describes the overall document structure; later clauses address the detailed semantics of the components.\n",
    "\n",
    "- **Content streams**: A PDF content stream contains a sequence of instructions describing the appearance of a page or other graphical entity. These instructions, while also represented as objects, are conceptually distinct from the objects that represent the document structure and are described separately. Sub-clause 7.8, \"Content Streams and Resources,\" discusses PDF content streams and their associated resources.\n",
    "\n"
   ]
  },
  {
   "cell_type": "markdown",
   "id": "confident-network",
   "metadata": {},
   "source": [
    "### PyPDF2 module\n",
    "A Pure-Python library built as a PDF toolkit.\n",
    "- Features\n",
    "    - Extracting document information (title, author, …)\n",
    "    - Splitting documents page by page\n",
    "    - Merging documents page by page\n",
    "    - Cropping pages\n",
    "    - Merging multiple pages into a single page\n",
    "    - Encrypting and decrypting PDF files\n",
    "\n",
    "Docs: https://pythonhosted.org/PyPDF2/"
   ]
  },
  {
   "cell_type": "code",
   "execution_count": 65,
   "id": "intense-helen",
   "metadata": {},
   "outputs": [],
   "source": [
    "import pprint\n",
    "import PyPDF2"
   ]
  },
  {
   "cell_type": "markdown",
   "id": "growing-magic",
   "metadata": {},
   "source": [
    "#### `getDocumentInfo()` and `PdfFileReader()` methods:\n",
    "\n",
    "\n",
    "- Retrieves the PDF file’s document information **dictionary**, if it exists.\n",
    "- Some PDF files use metadata streams instead of docinfo dictionaries, and these metadata streams will not be accessed by this function.\n",
    "\n",
    "**These 2 methods together yields a function that can be used to extract document information dictionary metadata from PDFs!**"
   ]
  },
  {
   "cell_type": "code",
   "execution_count": 60,
   "id": "gentle-freeware",
   "metadata": {},
   "outputs": [],
   "source": [
    "def get_doc_info(file_name):\n",
    "    pp = pprint.PrettyPrinter(indent=2)\n",
    "    pdf_file = PyPDF2.PdfFileReader(file_name, 'rb')\n",
    "    docInfo = pdf_file.getDocumentInfo()\n",
    "    pp.pprint(docInfo)"
   ]
  },
  {
   "cell_type": "code",
   "execution_count": 57,
   "id": "parental-press",
   "metadata": {},
   "outputs": [
    {
     "name": "stdout",
     "output_type": "stream",
     "text": [
      "{ '/CreationDate': \"D:20200330103628-05'00'\",\n",
      "  '/Creator': 'Adobe InDesign 15.0 (Macintosh)',\n",
      "  '/GTS_PDFXVersion': 'PDF/X-4',\n",
      "  '/ModDate': \"D:20200416192011-07'00'\",\n",
      "  '/Producer': 'Adobe PDF Library 15.0',\n",
      "  '/Title': 'SEC573_Course-Flyer.indd',\n",
      "  '/Trapped': '/False'}\n"
     ]
    }
   ],
   "source": [
    "get_doc_info(\"teste.pdf\")"
   ]
  },
  {
   "cell_type": "markdown",
   "id": "musical-barrier",
   "metadata": {},
   "source": [
    "## Getting XMP metadata\n",
    "\n",
    "Adobe’s **Extensible Metadata Platform (XMP)** is a file labeling technology that lets you embed metadata into files themselves during the content creation process. [[+]](https://www.adobe.com/products/xmp.html)\n",
    "\n",
    "#### `getXmpMetadata()` method:\n",
    "- This method retrieves XMP (Extensible Metadata Platform) data from the PDF document root.\n",
    "\n",
    "- The `xmpMethods` list uses the full collection of methods provided by [PyPDF2 documentation](https://pythonhosted.org/PyPDF2/XmpInformation.html?highlight=xmp#module-PyPDF2.xmp), that will be used to access the extracted metadata."
   ]
  },
  {
   "cell_type": "code",
   "execution_count": 70,
   "id": "engaged-europe",
   "metadata": {},
   "outputs": [],
   "source": [
    "def get_xmp_info(file_name):\n",
    "    pp = pprint.PrettyPrinter(indent=2)\n",
    "    pdf_file = PyPDF2.PdfFileReader(file_name, 'rb')\n",
    "    pdf_xmp = pdf_file.getXmpMetadata()\n",
    "    xmpMethods = ['custom_properties', 'dc_contributor', \n",
    "                   'dc_coveragedc_creator', 'dc_date', 'dc_description', \n",
    "                   'dc_format', 'dc_identifier', 'dc_languagedc_publisher',\n",
    "                   'dc_relation', 'dc_rights', 'dc_source', 'dc_subject',\n",
    "                   'dc_title', 'dc_type', 'pdf_keywords', 'pdf_pdfversion',\n",
    "                   'pdf_producer\"', 'xmp_createDate', 'xmp_creatorTool',\n",
    "                   'xmp_metadataDate', 'xmp_modifyDate', 'xmpmm_documentId', \n",
    "                   'xmpmm_instanceId']\n",
    "    \n",
    "    xmp = {}\n",
    "    for i in xmpMethods:\n",
    "        try:\n",
    "            xmp[i] = getattr(pdf_xmp,i)\n",
    "        except:\n",
    "            xmp[i] = ''\n",
    "    pp.pprint(xmp)"
   ]
  },
  {
   "cell_type": "code",
   "execution_count": 69,
   "id": "spiritual-internship",
   "metadata": {},
   "outputs": [
    {
     "name": "stdout",
     "output_type": "stream",
     "text": [
      "{ 'custom_properties': {'GTS_PDFXVersion': 'PDF/X-4'},\n",
      "  'dc_contributor': [],\n",
      "  'dc_coveragedc_creator': '',\n",
      "  'dc_date': [],\n",
      "  'dc_description': {},\n",
      "  'dc_format': 'application/pdf',\n",
      "  'dc_identifier': None,\n",
      "  'dc_languagedc_publisher': '',\n",
      "  'dc_relation': [],\n",
      "  'dc_rights': {},\n",
      "  'dc_source': None,\n",
      "  'dc_subject': [],\n",
      "  'dc_title': {'x-default': 'SEC573_Course-Flyer.indd'},\n",
      "  'dc_type': [],\n",
      "  'pdf_keywords': None,\n",
      "  'pdf_pdfversion': None,\n",
      "  'pdf_producer\"': '',\n",
      "  'xmp_createDate': datetime.datetime(2020, 3, 30, 15, 36, 28),\n",
      "  'xmp_creatorTool': 'Adobe InDesign 15.0 (Macintosh)',\n",
      "  'xmp_metadataDate': datetime.datetime(2020, 4, 17, 2, 20, 11),\n",
      "  'xmp_modifyDate': datetime.datetime(2020, 4, 17, 2, 20, 11),\n",
      "  'xmpmm_documentId': 'xmp.id:192f14a8-04ee-4d61-8cbc-58d8b3e24033',\n",
      "  'xmpmm_instanceId': 'uuid:a432719a-38f6-4541-b5a5-0141a783857c'}\n"
     ]
    }
   ],
   "source": [
    "get_xmp_info(\"teste.pdf\")"
   ]
  },
  {
   "cell_type": "markdown",
   "id": "female-wells",
   "metadata": {},
   "source": [
    "## PyPDF2 problems\n",
    "After running several hundred PDF files through this PyPDF2 based application, it was discovered serious problems with the module that could be useless for serious forensic investigations, leading to inability to extract multiple metadata objects and reporting false negatives.\n",
    "\n",
    "\n",
    "## Other solutions\n",
    "### Python regex\n",
    "An alternative low-level technique of carving the PDF binary directly with Python, using the re module\n",
    "\n",
    "### PDF Metadata \n",
    "*Is an automated utility that extracts metadata from PDF file. The utility is used by passing arguments to the script from the command line. As this utility is intended for digital forensics use case, in distinction from PDF parsing libraries (e.g. PyPDF2), which extract only a structured subset of available metadata, PDF Forensics aims to extract all relevant file system and application metadata in their native format. These extracted data are then collected into a structured HTML-formatted report.*\n",
    "\n",
    "PDF Metadata repository: https://gitlab.com/nxl4/pdf-metadata/-/tree/master"
   ]
  },
  {
   "cell_type": "markdown",
   "id": "technical-baptist",
   "metadata": {},
   "source": [
    "# References:\n",
    "- https://www.sans.org/reading-room/whitepapers/forensics/pdf-metadata-extraction-python-38800\n",
    "- https://www.sans.org/reading-room/whitepapers/privacy/document-metadata-the-silent-killer--32974\n",
    "- https://pythonhosted.org/PyPDF2/\n",
    "- https://www.adobe.com/content/dam/acom/en/devnet/pdf/pdfs/pdf_reference_archives/PDFReference.pdf\n",
    "- https://gitlab.com/nxl4/pdf-metadata/-/tree/master\n",
    "- https://resources.infosecinstitute.com/topic/pdf-file-format-basic-structure/\n"
   ]
  }
 ],
 "metadata": {
  "kernelspec": {
   "display_name": "Python 3",
   "language": "python",
   "name": "python3"
  },
  "language_info": {
   "codemirror_mode": {
    "name": "ipython",
    "version": 3
   },
   "file_extension": ".py",
   "mimetype": "text/x-python",
   "name": "python",
   "nbconvert_exporter": "python",
   "pygments_lexer": "ipython3",
   "version": "3.8.5"
  }
 },
 "nbformat": 4,
 "nbformat_minor": 5
}
