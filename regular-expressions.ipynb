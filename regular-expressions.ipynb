{
 "cells": [
  {
   "cell_type": "markdown",
   "metadata": {},
   "source": [
    "# Regular Expressions in Python\n",
    "\n",
    "Author: samsar4\n",
    "\n",
    "### Brief Introduction\n",
    "Regular expressions (called REs, or regexes, or regex patterns) are essentially a tiny, highly specialized programming language embedded inside Python and made available through the re module. Using this little language, you specify the rules for the set of possible strings that you want to match; this set might contain English sentences, or e-mail addresses, or TeX commands, or anything you like. You can then ask questions such as “Does this string match the pattern?”, or “Is there a match for the pattern anywhere in this string?”. You can also use REs to modify a string or to split it apart in various ways.\n",
    "\n",
    "### Special characters:\n",
    "\n",
    "    \\\tescape special characters\n",
    "    .\tmatches any character\n",
    "    ^\tmatches beginning of string\n",
    "    $\tmatches end of string\n",
    "    [5b-d]\tmatches any chars '5', 'b', 'c' or 'd'\n",
    "    [^a-c6]\tmatches any char except 'a', 'b', 'c' or '6'\n",
    "    R|S\tmatches either regex R or regex S\n",
    "    ()\tcreates a capture group and indicates precedence\n",
    "    \n",
    "### Special sequences:\n",
    "\n",
    "    \\A\tstart of string\n",
    "    \\b\tmatches empty string at word boundary (between \\w and \\W)\n",
    "    \\B\tmatches empty string not at word boundary\n",
    "    \\d\tdigit\n",
    "    \\D\tnon-digit\n",
    "    \\s\twhitespace: [ \\t\\n\\r\\f\\v]\n",
    "    \\S\tnon-whitespace\n",
    "    \\w\talphanumeric: [0-9a-zA-Z_]\n",
    "    \\W\tnon-alphanumeric\n",
    "    \\Z\tend of string\n",
    "    \\g<id>\tmatches a previously defined group\n",
    "   \n",
    "\n",
    "### Quantifiers\n",
    "\n",
    "\n",
    "    *\t0 or more (append ? for non-greedy)\n",
    "    +\t1 or more (append ? for non-greedy)\n",
    "    ?\t0 or 1 (append ? for non-greedy)\n",
    "    {m}\texactly mm occurrences\n",
    "    {m, n}\tfrom m to n. m defaults to 0, n to infinity\n",
    "    {m, n}?\tfrom m to n, as few as possible"
   ]
  },
  {
   "cell_type": "code",
   "execution_count": 1,
   "metadata": {},
   "outputs": [],
   "source": [
    "import re"
   ]
  },
  {
   "cell_type": "markdown",
   "metadata": {},
   "source": [
    "### Grabbing the IP addresses with `findall()` method\n",
    "\n",
    "*`findall()` method: The string is scanned left-to-right, and matches are returned in the order found. If one or more groups are present in the pattern, return a list of groups; this will be a list of tuples if the pattern has more than one group. Empty matches are included in the result.*\n",
    "\n"
   ]
  },
  {
   "cell_type": "code",
   "execution_count": 69,
   "metadata": {},
   "outputs": [
    {
     "name": "stdout",
     "output_type": "stream",
     "text": [
      "Oct 31 06:11:35 gw1 kernel: Â OUTBOUND IN=eth1 OUT=eth0 SRC=192.168.1.101 DST=204.152.189.116 LEN=52 TOS=0x00 PREC=0x00 TTL=127 ID=18437 DF PROTO=TCP SPT=32865 DPT=80 WINDOW=5840 RES=0x00 SYN URGP=0\n"
     ]
    }
   ],
   "source": [
    "log = 'Oct 31 06:11:35 gw1 kernel: Â OUTBOUND IN=eth1 OUT=eth0 SRC=192.168.1.101 DST=204.152.189.116 LEN=52 TOS=0x00 PREC=0x00 TTL=127 ID=18437 DF PROTO=TCP SPT=32865 DPT=80 WINDOW=5840 RES=0x00 SYN URGP=0'\n",
    "print(log)"
   ]
  },
  {
   "cell_type": "code",
   "execution_count": 91,
   "metadata": {},
   "outputs": [
    {
     "name": "stdout",
     "output_type": "stream",
     "text": [
      "The Source IP address is: 192.168.1.101\n",
      "The Destination IP address is: 204.152.189.116\n"
     ]
    }
   ],
   "source": [
    "ip_source, ip_dest = re.findall(r\"\\b(?:\\d{1,3}\\.){3}\\d{1,3}\\b\",log)\n",
    "\n",
    "print(f\"The Source IP address is: {ip_source}\\nThe Destination IP address is: {ip_dest}\")"
   ]
  },
  {
   "cell_type": "markdown",
   "metadata": {},
   "source": [
    "###\tUsing `findall()` to match (!) and (.) chars"
   ]
  },
  {
   "cell_type": "code",
   "execution_count": 8,
   "metadata": {},
   "outputs": [
    {
     "name": "stdout",
     "output_type": "stream",
     "text": [
      "['!', '!', '!', '.', '.', '.']\n"
     ]
    }
   ],
   "source": [
    "sentence = \"This is a sentence that ends with a period!!! ...\"\n",
    "result = re.findall(r\"[^a-zA-Z ]\", sentence)\n",
    "print(result)"
   ]
  },
  {
   "cell_type": "markdown",
   "metadata": {},
   "source": [
    "*`search()` method: Scan through a string, looking for any location where this RE matches; Returns a single value that first encounters.*\n",
    "\n",
    "- Match by word, two words, but one result:"
   ]
  },
  {
   "cell_type": "code",
   "execution_count": 9,
   "metadata": {},
   "outputs": [
    {
     "name": "stdout",
     "output_type": "stream",
     "text": [
      "<re.Match object; span=(19, 23), match='that'>\n"
     ]
    }
   ],
   "source": [
    "print(re.search(r\"that|ends\", sentence))"
   ]
  },
  {
   "cell_type": "markdown",
   "metadata": {},
   "source": [
    "- To output more than one value, use `findall()`:"
   ]
  },
  {
   "cell_type": "code",
   "execution_count": 43,
   "metadata": {},
   "outputs": [
    {
     "name": "stdout",
     "output_type": "stream",
     "text": [
      "['that', 'ends']\n"
     ]
    }
   ],
   "source": [
    "print(re.findall(r\"that|ends\", sentence))"
   ]
  },
  {
   "cell_type": "markdown",
   "metadata": {},
   "source": [
    "- Expanding search (greedy)"
   ]
  },
  {
   "cell_type": "code",
   "execution_count": 84,
   "metadata": {},
   "outputs": [
    {
     "name": "stdout",
     "output_type": "stream",
     "text": [
      "<re.Match object; span=(0, 18), match='Python Programming'>\n"
     ]
    }
   ],
   "source": [
    "string = \"Python Programming\"\n",
    "\n",
    "\n",
    "print(re.search(r\"Py.*ng\", string))"
   ]
  },
  {
   "cell_type": "markdown",
   "metadata": {},
   "source": [
    "- Restricting search for non-greedy"
   ]
  },
  {
   "cell_type": "code",
   "execution_count": 46,
   "metadata": {},
   "outputs": [
    {
     "name": "stdout",
     "output_type": "stream",
     "text": [
      "<re.Match object; span=(0, 6), match='Python'>\n"
     ]
    }
   ],
   "source": [
    "print(re.search(r\"Py[a-z]*n\", string))"
   ]
  },
  {
   "cell_type": "markdown",
   "metadata": {},
   "source": [
    "- Append for non-greedy"
   ]
  },
  {
   "cell_type": "code",
   "execution_count": 48,
   "metadata": {},
   "outputs": [
    {
     "name": "stdout",
     "output_type": "stream",
     "text": [
      "<re.Match object; span=(2, 6), match='thon'>\n"
     ]
    }
   ],
   "source": [
    "print(re.search(r\"t+h+o+n\", string))"
   ]
  },
  {
   "cell_type": "code",
   "execution_count": 54,
   "metadata": {},
   "outputs": [
    {
     "name": "stdout",
     "output_type": "stream",
     "text": [
      "<re.Match object; span=(0, 5), match='Anima'>\n"
     ]
    }
   ],
   "source": [
    "strings_a = \"Animal Kingdom\"\n",
    "\n",
    "\n",
    "print(re.search(r\"[Aa].*[Aa]\", strings_a))"
   ]
  },
  {
   "cell_type": "markdown",
   "metadata": {},
   "source": [
    "- Matching the condition"
   ]
  },
  {
   "cell_type": "code",
   "execution_count": 60,
   "metadata": {},
   "outputs": [
    {
     "name": "stdout",
     "output_type": "stream",
     "text": [
      "<re.Match object; span=(18, 25), match='Amazing'>\n"
     ]
    }
   ],
   "source": [
    "strings_b = \"Animal Kingdom is Amazing!\"\n",
    "\n",
    "print(re.search(r\"A?mazing\", strings_b))"
   ]
  },
  {
   "cell_type": "markdown",
   "metadata": {},
   "source": [
    "- Checking vowels if they are between other characters:"
   ]
  },
  {
   "cell_type": "markdown",
   "metadata": {},
   "source": [
    "## Examples"
   ]
  },
  {
   "cell_type": "markdown",
   "metadata": {},
   "source": [
    "### Matching acronym:"
   ]
  },
  {
   "cell_type": "code",
   "execution_count": 92,
   "metadata": {},
   "outputs": [
    {
     "name": "stdout",
     "output_type": "stream",
     "text": [
      "True\n",
      "True\n",
      "False\n",
      "False\n",
      "True\n",
      "True\n"
     ]
    }
   ],
   "source": [
    "# Find acronym and return True if matches \n",
    "def contains_acronym(text):\n",
    "  pattern = \"[()]\" \n",
    "  result = re.search(pattern, text)\n",
    "  return result != None\n",
    "\n",
    "print(contains_acronym(\"Instant messaging (IM) is a set of communication technologies used for text-based communication\")) \n",
    "print(contains_acronym(\"American Standard Code for Information Interchange (ASCII) is a character encoding standard for electronic communication\")) \n",
    "print(contains_acronym(\"Please do NOT enter without permission!\")) \n",
    "print(contains_acronym(\"A man cannot be comfortable without his own approval.\")) \n",
    "print(contains_acronym(\"PostScript is a fourth-generation programming language (4GL)\")) \n",
    "print(contains_acronym(\"Have fun using a self-contained underwater breathing apparatus (Scuba)!\"))"
   ]
  },
  {
   "cell_type": "markdown",
   "metadata": {},
   "source": [
    "### Combining multiple matching parameters:\n",
    "1. Starts with an uppercase letter\n",
    "2. At least some lowercase letters or a space\n",
    "3. Ends with a period, question mark, or exclamation point"
   ]
  },
  {
   "cell_type": "code",
   "execution_count": 93,
   "metadata": {},
   "outputs": [
    {
     "name": "stdout",
     "output_type": "stream",
     "text": [
      "True\n",
      "False\n",
      "False\n",
      "False\n",
      "True\n"
     ]
    }
   ],
   "source": [
    "def check_sentence(text):\n",
    "  result_3 = re.search(r\"^[A-Z][a-z! ]*[.?!]$\", text)\n",
    "  return result_3 != None\n",
    "\n",
    "print(check_sentence(\"Is this is a sentence?\"))\n",
    "print(check_sentence(\"is this is a sentence?\"))\n",
    "print(check_sentence(\"Hello\"))\n",
    "print(check_sentence(\"1-2-3-GO!\"))\n",
    "print(check_sentence(\"A star is born.\"))\n"
   ]
  },
  {
   "cell_type": "markdown",
   "metadata": {},
   "source": [
    "1. Contains alphanumeric characters (which includes letters, numbers, and underscores)\n",
    "2. Periods, dashes, and a plus sign\n",
    "3. Character-only top-level domain such as \".com\", \".info\", \".edu\", etc."
   ]
  },
  {
   "cell_type": "code",
   "execution_count": 95,
   "metadata": {},
   "outputs": [
    {
     "name": "stdout",
     "output_type": "stream",
     "text": [
      "True\n",
      "False\n",
      "True\n",
      "False\n",
      "True\n"
     ]
    }
   ],
   "source": [
    "def check_web_address(text):\n",
    "  pattern = \"[\\w\\._-]*\\.[A-Za-z]*$\"\n",
    "  result_4 = re.search(pattern, text)\n",
    "  return result_4 != None\n",
    "\n",
    "print(check_web_address(\"gmail.com\"))\n",
    "print(check_web_address(\"www@google\"))\n",
    "print(check_web_address(\"www.mrrobot.com\"))\n",
    "print(check_web_address(\"web-address.com/homepage\")) \n",
    "print(check_web_address(\"Some_random_blog.US\"))"
   ]
  },
  {
   "cell_type": "markdown",
   "metadata": {},
   "source": [
    "- Matching the time format of a 12-hour clock "
   ]
  },
  {
   "cell_type": "code",
   "execution_count": 99,
   "metadata": {},
   "outputs": [
    {
     "name": "stdout",
     "output_type": "stream",
     "text": [
      "True\n",
      "True\n",
      "False\n",
      "False\n"
     ]
    }
   ],
   "source": [
    "import re\n",
    "def check_time(text):\n",
    "  pattern = '^(1[0-2]|1?[1-9]):([0-5][0-9])( ?([AaPp][Mm]))'\n",
    "  result = re.search(pattern, text)\n",
    "  return result != None\n",
    "\n",
    "print(check_time(\"12:45pm\")) # True\n",
    "print(check_time(\"9:59 AM\")) # True\n",
    "print(check_time(\"6:60am\")) # False\n",
    "print(check_time(\"five o'clock\")) # False"
   ]
  },
  {
   "cell_type": "markdown",
   "metadata": {},
   "source": [
    "### Grabbing a single email address:"
   ]
  },
  {
   "cell_type": "code",
   "execution_count": 83,
   "metadata": {},
   "outputs": [
    {
     "name": "stdout",
     "output_type": "stream",
     "text": [
      "<re.Match object; span=(40, 63), match='johnwick_1964@gmail.com'>\n",
      "['johnwick_1964@gmail.com']\n"
     ]
    }
   ],
   "source": [
    "text = \"Feb 23 12:54:06, Received an email from johnwick_1964@gmail.com\"\n",
    "\n",
    "## search() method: for scanning through the string\n",
    "print(re.search(r\"[A-Za-z0-9-_]+@[A-Za-z0-9].+[a-z]\", text))\n",
    "\n",
    "## findall() method: to return the match into a list\n",
    "print(re.findall(r\"[A-Za-z0-9-_]+@[A-Za-z0-9].+[a-z]\", text))"
   ]
  },
  {
   "cell_type": "markdown",
   "metadata": {},
   "source": [
    "### Capturing groups:\n",
    "Portions of the pattern that are enclosed in parentheses"
   ]
  },
  {
   "cell_type": "code",
   "execution_count": 101,
   "metadata": {},
   "outputs": [
    {
     "name": "stdout",
     "output_type": "stream",
     "text": [
      "('John', 'Wick')\n"
     ]
    }
   ],
   "source": [
    "name = \"John, Wick\"\n",
    "\n",
    "# scanning\n",
    "result_6 = re.search(r\"^(\\w*), (\\w*)$\", name)\n",
    "\n",
    "# using groups() method returns a tuple\n",
    "print(result_6.groups())"
   ]
  },
  {
   "cell_type": "code",
   "execution_count": 100,
   "metadata": {},
   "outputs": [
    {
     "name": "stdout",
     "output_type": "stream",
     "text": [
      "Hello, John Wick\n"
     ]
    }
   ],
   "source": [
    "# Acessing indexes from the tuple\n",
    "print(f\"Hello, {result_6[1]} {result_6[2]}\")"
   ]
  },
  {
   "cell_type": "markdown",
   "metadata": {},
   "source": [
    "### Extracting a PID from a syslog line"
   ]
  },
  {
   "cell_type": "code",
   "execution_count": 120,
   "metadata": {},
   "outputs": [
    {
     "name": "stdout",
     "output_type": "stream",
     "text": [
      "12345\n"
     ]
    }
   ],
   "source": [
    "log_2 = \"May 3 05:55:45 mycomputer bad_process[12345]: ERROR Performing package upgrade\"\n",
    "regex_2 = r\"\\[(\\d+)\\]\"\n",
    "result_7 = re.search(regex_2, log_2)\n",
    "print(result_7[1])"
   ]
  },
  {
   "cell_type": "markdown",
   "metadata": {},
   "source": [
    "To avoid a simple error in case of some value have different characters instead of numbers inside the square brackets `[]`"
   ]
  },
  {
   "cell_type": "code",
   "execution_count": 145,
   "metadata": {},
   "outputs": [],
   "source": [
    "def extract_pid(log_line):\n",
    "    regex_2 = r\"\\[(\\d+)\\]\"\n",
    "    result_7 = re.search(regex_2, log_line)\n",
    "    if result_7 is None:\n",
    "        return \"\"\n",
    "    return result_7[1]"
   ]
  },
  {
   "cell_type": "code",
   "execution_count": 146,
   "metadata": {},
   "outputs": [
    {
     "name": "stdout",
     "output_type": "stream",
     "text": [
      "12345\n"
     ]
    }
   ],
   "source": [
    "print(extract_pid(log_2))"
   ]
  },
  {
   "cell_type": "code",
   "execution_count": 149,
   "metadata": {},
   "outputs": [
    {
     "name": "stdout",
     "output_type": "stream",
     "text": [
      "\n"
     ]
    }
   ],
   "source": [
    "print(extract_pid(\"13 Elephant's in a [cage]\"))"
   ]
  },
  {
   "cell_type": "markdown",
   "metadata": {},
   "source": [
    "### Extracting **Date**, **Time** and **PID** from syslog lines"
   ]
  },
  {
   "cell_type": "code",
   "execution_count": 5,
   "metadata": {},
   "outputs": [
    {
     "name": "stdout",
     "output_type": "stream",
     "text": [
      "Jul 6 14:01:23 PID: 29440\n",
      "Jul 6 14:02:08 PID: 29187\n",
      "Jul 6 14:02:09 PID: 29187\n",
      "Jul 6 14:03:01 PID: 29440\n",
      "Jul 6 14:03:40 PID: 29807\n",
      "Jul 6 14:04:01 PID: 29440\n",
      "Jul 6 14:05:01 PID: 29440\n"
     ]
    }
   ],
   "source": [
    "def show_time_of_pid(line):\n",
    "  pattern = r\"([a-zA-Z]+ \\d+ \\d+:\\d+:\\d+).*\\[(\\d+)\\]\\:\"\n",
    "  result = re.search(pattern, line)\n",
    "  return f\"{result.group(1)} PID: {result.group(2)}\"\n",
    "\n",
    "print(show_time_of_pid(\"Jul 6 14:01:23 computer.name CRON[29440]: USER (good_user)\"))\n",
    "print(show_time_of_pid(\"Jul 6 14:02:08 computer.name jam_tag=psim[29187]: (UUID:006)\"))\n",
    "print(show_time_of_pid(\"Jul 6 14:02:09 computer.name jam_tag=psim[29187]: (UUID:007)\"))\n",
    "print(show_time_of_pid(\"Jul 6 14:03:01 computer.name CRON[29440]: USER (naughty_user)\"))\n",
    "print(show_time_of_pid(\"Jul 6 14:03:40 computer.name cacheclient[29807]: start syncing from \\\"0xDEADBEEF\\\"\"))\n",
    "print(show_time_of_pid(\"Jul 6 14:04:01 computer.name CRON[29440]: USER (naughty_user)\")) \n",
    "print(show_time_of_pid(\"Jul 6 14:05:01 computer.name CRON[29440]: USER (naughty_user)\")) "
   ]
  },
  {
   "cell_type": "markdown",
   "metadata": {},
   "source": [
    "### Splitting and Replacing\n",
    "`split()` method: the string into a list, splitting it wherever the RE matches\n",
    "\n",
    "`sub()` method: Find all substrings where the RE matches, and replace them with a different string"
   ]
  },
  {
   "cell_type": "code",
   "execution_count": 153,
   "metadata": {},
   "outputs": [
    {
     "data": {
      "text/plain": [
       "['May 3 05:55:45, mycomputer, bad_process[12345]:, ERROR Performing package upgrade']"
      ]
     },
     "execution_count": 153,
     "metadata": {},
     "output_type": "execute_result"
    }
   ],
   "source": [
    "re.split(r\"[.?!]\", \"May 3 05:55:45, mycomputer, bad_process[12345]:, ERROR Performing package upgrade\")"
   ]
  },
  {
   "cell_type": "markdown",
   "metadata": {},
   "source": [
    "**Adding commans and notation marks as elements of a list:**"
   ]
  },
  {
   "cell_type": "code",
   "execution_count": 156,
   "metadata": {},
   "outputs": [
    {
     "data": {
      "text/plain": [
       "['May 3 05:55:45',\n",
       " '!',\n",
       " ' mycomputer, bad_process[12345]:, ERROR Performing package upgrade',\n",
       " '?',\n",
       " '']"
      ]
     },
     "execution_count": 156,
     "metadata": {},
     "output_type": "execute_result"
    }
   ],
   "source": [
    "re.split(r\"([.?!])\", \"May 3 05:55:45! mycomputer, bad_process[12345]:, ERROR Performing package upgrade?\")"
   ]
  },
  {
   "cell_type": "markdown",
   "metadata": {},
   "source": [
    "### Replacing\n",
    "Example: **Hiding an e-mail address from log files**"
   ]
  },
  {
   "cell_type": "code",
   "execution_count": 69,
   "metadata": {},
   "outputs": [
    {
     "name": "stdout",
     "output_type": "stream",
     "text": [
      "<re.Match object; span=(16, 28), match='192.168.1.12'>\n",
      "['192.168.1.12']\n"
     ]
    }
   ],
   "source": [
    "ip_quote = \"Your IP address 192.168.1.12 is a private address class C\"\n",
    "print(re.search(r\"[\\d0-9]+.[\\d0-9]+.[\\d0-9]+.[\\d0-9].\", ip_quote))\n",
    "print(re.findall(r\"[\\d0-9]+.[\\d0-9]+.[\\d0-9]+.[\\d0-9].\", ip_quote))\n"
   ]
  },
  {
   "cell_type": "code",
   "execution_count": 41,
   "metadata": {},
   "outputs": [
    {
     "data": {
      "text/plain": [
       "'Received an email for [REDACTED]'"
      ]
     },
     "execution_count": 41,
     "metadata": {},
     "output_type": "execute_result"
    }
   ],
   "source": [
    "re.sub(r\"[\\w.%+-]+@[\\w.-]+\", \"[REDACTED]\", \"Received an email for johnwick_1964@gmail.com\")"
   ]
  },
  {
   "cell_type": "markdown",
   "metadata": {},
   "source": [
    "### References & Useful links\n",
    "- https://pythex.org/\n",
    "- https://docs.python.org/3/howto/regex.html\n",
    "- https://regex101.com/\n",
    "- https://docs.python.org/3/howto/regex.html\n",
    "- https://docs.python.org/3/library/re.html\n",
    "- https://docs.python.org/3/howto/regex.html#greedy-versus-non-greedy\n",
    "- https://regexcrossword.com/\n",
    "- https://regexcrossword.com/"
   ]
  }
 ],
 "metadata": {
  "kernelspec": {
   "display_name": "Python 3",
   "language": "python",
   "name": "python3"
  },
  "language_info": {
   "codemirror_mode": {
    "name": "ipython",
    "version": 3
   },
   "file_extension": ".py",
   "mimetype": "text/x-python",
   "name": "python",
   "nbconvert_exporter": "python",
   "pygments_lexer": "ipython3",
   "version": "3.8.5"
  }
 },
 "nbformat": 4,
 "nbformat_minor": 4
}
